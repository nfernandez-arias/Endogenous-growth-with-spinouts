{
 "cells": [
  {
   "cell_type": "markdown",
   "metadata": {},
   "source": [
    "Testing HJB_V algorithm"
   ]
  },
  {
   "cell_type": "code",
   "execution_count": 1,
   "metadata": {},
   "outputs": [],
   "source": [
    "import auxil as ax\n",
    "import numpy as np\n",
    "import scipy.interpolate as interp\n",
    "from scipy import optimize\n",
    "#from numba import jit"
   ]
  },
  {
   "cell_type": "code",
   "execution_count": 2,
   "metadata": {},
   "outputs": [],
   "source": [
    "pm = ax.set_modelpar()\n",
    "pa = ax.set_algopar()\n",
    "ig = ax.set_init_guesses_global(pa,pm)"
   ]
  },
  {
   "cell_type": "code",
   "execution_count": 3,
   "metadata": {},
   "outputs": [],
   "source": [
    "phi = ax.phi"
   ]
  },
  {
   "cell_type": "code",
   "execution_count": 4,
   "metadata": {},
   "outputs": [
    {
     "data": {
      "text/plain": [
       "1e-09"
      ]
     },
     "execution_count": 4,
     "metadata": {},
     "output_type": "execute_result"
    }
   ],
   "source": [
    "pa['HJB_V_tol']"
   ]
  },
  {
   "cell_type": "code",
   "execution_count": 5,
   "metadata": {},
   "outputs": [],
   "source": [
    "V_out = ax.solve_HJB_V(pa,pm,ig)"
   ]
  },
  {
   "cell_type": "code",
   "execution_count": 19,
   "metadata": {},
   "outputs": [],
   "source": [
    "out = {}\n",
    "    \n",
    "d = ax.set_init_guesses_V(pa,pm,ig)\n",
    "# flow profits as function of q\n",
    "prof = d['prof']\n",
    "V0 = d['V0']\n",
    "\n",
    "# Initial guesses for value functions A(q,m,n) and B(q) \n",
    "# are contained in argument ig\n",
    "\n",
    "zE = pm['xi'] * np.minimum(pa['m_grid_2d'],ig['M0'])\n",
    "x0 = ig['x0']\n",
    "\n",
    "zmax = np.ones(V0.shape)\n",
    "\n",
    "HJB_d = 1\n",
    "count = 1\n",
    "\n",
    "V1 = np.ones(V0.shape)\n",
    "#B1 = np.ones(B0.shape)\n",
    "\n",
    "while (HJB_d > pa['HJB_V_tol'])  count <= 100:  \n",
    "    # First step is to create interpolant\n",
    "    V0_interp = interp.Rbf(pa['q_grid_2d'],pa['m_grid_2d'],V0)\n",
    "    V0plus = V0_interp((1+pm['lambda'])*pa['q_grid_2d'],np.zeros(pa['m_grid_2d'].shape))\n",
    "   #B0_interp = interp.Rbf(pa['q_grid_3d'],pa['m_grid_3d'],pa['n_grid_3d'],B0)\n",
    "\n",
    "    # Interpolate onto finer grid \n",
    "    #A0_FINE = A0_interp(pa['q_grid_3d_FINE'],pa['m_grid_3d_FINE'],pa['n_grid_3d_FINE'])\n",
    "    #B0_FINE = B0_interp(pa['q_grid_3d_FINE'],pa['m_grid_3d_FINE'],pa['n_grid_3d_FINE'])\n",
    "\n",
    "    # Next, loop through all values - no way to avoid, since we need\n",
    "    # to find the zero of a polynomial to perform the optimization on \n",
    "    # the RHS\n",
    "\n",
    "    #################################################################################\n",
    "    #Should be able to parallelize below, however. No reason to do this in sequence!#\n",
    "    #################################################################################\n",
    "\n",
    "    for i_q,q in enumerate(pa['q_grid']):   \n",
    "        for i_m,m in enumerate(pa['m_grid']):    \n",
    "\n",
    "\n",
    "            # Should probably rewrite this as a function and jit THIS, \n",
    "            # so that it runs once and figures out what its types should be.\n",
    "            # If I understand how numba works correctly...\n",
    "\n",
    "            # Use interpolation + finite difference to compute all derivative terms on the RHS\n",
    "            # Upwind scheme: take forward difference when drift is positive, backward difference when drift \n",
    "            # is negative. Hence, take backward difference when computing Vq, forward difference when computing Vm\n",
    "\n",
    "            Vq = pa['delta_q']**(-1) * (-1)*(V0_interp(q-pa['delta_q'],m) - V0[i_q,i_m])  \n",
    "            Vm = pa['delta_m']**(-1) * (V0_interp(q,m + pa['delta_m']) - V0[i_q,i_m])\n",
    "\n",
    "            # Construct anonymous function for maximizing\n",
    "\n",
    "            rhs = lambda z: -(x0[i_q,i_m]*(-ig['w0'][i_q,i_m] * z + pm['nu'] * Vm * z + pm['chi_I'] * z * phi(z + zE[i_q,i_m]) * (V0plus[i_q,i_m] - V0[i_q,i_m]) \n",
    "                                            + pm['chi_E']*zE[i_q,i_m]*phi(z + zE[i_q,i_m])*(-V0[i_q,i_m])) \n",
    "                                + (1 - x0[i_q,i_m]) * (-pm['wbar'] * z + pm['chi_I']*z*phi(z + zE[i_q,i_m])*(V0plus[i_q,i_m] \n",
    "                                - V0[i_q,i_m]) + pm['chi_E']*zE[i_q,i_m]*phi(z+zE[i_q,i_m])*(-V0[i_q,i_m])))\n",
    "\n",
    "            #rhs = lambda z: -( - x0[i_q,i_m] * ig['w0'][i_q,i_m] * z \n",
    "            #                 + pm['chi_I']*z*phi(z+zE[i_q,i_m])*V0plus[i_q,i_m] \n",
    "            #                 - (pm['chi_I']*z + pm['chi_E']*zE[i_q,i_m])*phi(z+zE[i_q,i_m])*V0[i_q,i_m] \n",
    "            #                 + (1- x0[i_q,i_m]) *  pm['nu']*z*Vm )\n",
    "\n",
    "            optimum = optimize.minimize(rhs,1,bounds = [(0.001,10)], method = 'L-BFGS-B', options={'maxiter': 100, 'disp': True})\n",
    "            zmax[i_q,i_m] = optimum.x\n",
    "            z = optimum.x\n",
    "            #zmax = 0.5\n",
    "            # Update \n",
    "\n",
    "            V1[i_q,i_m] = ( V0[i_q,i_m] \n",
    "                                + pa['delta_t']*(-rhs(z) + prof[i_q,i_m] - ig['g0']*q*Vq \n",
    "                                + pm['nu']*zE[i_q,i_m] * Vm - (pm['rho'] -ig['g0']) * V0[i_q,i_m]))\n",
    "\n",
    "    # Compute distance between A0 and A1\n",
    "\n",
    "    HJB_d = np.sum(np.square(V0-V1)) \n",
    "\n",
    "    # Update guesses\n",
    "    V0 = V1\n",
    "    #B0 = B1\n",
    "\n",
    "    count = count + 1\n",
    "\n",
    "V1_interp = interp.Rbf(pa['q_grid_2d'],pa['m_grid_2d'],V0)\n",
    "Vplus = V1_interp((1+pm['lambda'])*pa['q_grid_2d'],np.zeros(pa['m_grid_2d'].shape))\n",
    "\n",
    "out['V'] = V0\n",
    "out['Vplus'] = Vplus\n",
    "out['zI'] = zmax\n",
    "out['count'] = count\n",
    "#out['B0'] = B0\n",
    "#return out"
   ]
  },
  {
   "cell_type": "markdown",
   "metadata": {},
   "source": [
    "Make plots"
   ]
  },
  {
   "cell_type": "code",
   "execution_count": 6,
   "metadata": {},
   "outputs": [],
   "source": [
    "import matplotlib.pyplot as plt\n",
    "from mpl_toolkits.mplot3d import Axes3D\n",
    "fig = plt.figure()\n",
    "ax2 = fig.add_subplot(111, projection='3d')"
   ]
  },
  {
   "cell_type": "code",
   "execution_count": 8,
   "metadata": {},
   "outputs": [
    {
     "data": {
      "text/plain": [
       "<mpl_toolkits.mplot3d.art3d.Poly3DCollection at 0x21028f67588>"
      ]
     },
     "execution_count": 8,
     "metadata": {},
     "output_type": "execute_result"
    }
   ],
   "source": [
    "ax2.plot_surface(pa['q_grid_2d'],pa['m_grid_2d'],V_out['V'])"
   ]
  },
  {
   "cell_type": "code",
   "execution_count": 9,
   "metadata": {},
   "outputs": [
    {
     "data": {
      "image/png": "[encoded data removed]",
      "text/plain": [
       "<matplotlib.figure.Figure at 0x210279aff28>"
      ]
     },
     "metadata": {},
     "output_type": "display_data"
    }
   ],
   "source": [
    "plt.show()"
   ]
  },
  {
   "cell_type": "code",
   "execution_count": 10,
   "metadata": {},
   "outputs": [
    {
     "ename": "NameError",
     "evalue": "name 'count' is not defined",
     "output_type": "error",
     "traceback": [
      "\u001b[1;31m---------------------------------------------------------------------------\u001b[0m",
      "\u001b[1;31mNameError\u001b[0m                                 Traceback (most recent call last)",
      "\u001b[1;32m<ipython-input-10-0295fd033b59>\u001b[0m in \u001b[0;36m<module>\u001b[1;34m()\u001b[0m\n\u001b[1;32m----> 1\u001b[1;33m \u001b[0mcount\u001b[0m\u001b[1;33m\u001b[0m\u001b[0m\n\u001b[0m",
      "\u001b[1;31mNameError\u001b[0m: name 'count' is not defined"
     ]
    }
   ],
   "source": [
    "count"
   ]
  },
  {
   "cell_type": "code",
   "execution_count": 14,
   "metadata": {},
   "outputs": [
    {
     "data": {
      "text/plain": [
       "0.0"
      ]
     },
     "execution_count": 14,
     "metadata": {},
     "output_type": "execute_result"
    }
   ],
   "source": [
    "10e8*HJB_d"
   ]
  }
 ],
 "metadata": {
  "kernelspec": {
   "display_name": "Python 3",
   "language": "python",
   "name": "python3"
  },
  "language_info": {
   "codemirror_mode": {
    "name": "ipython",
    "version": 3
   },
   "file_extension": ".py",
   "mimetype": "text/x-python",
   "name": "python",
   "nbconvert_exporter": "python",
   "pygments_lexer": "ipython3",
   "version": "3.6.1"
  }
 },
 "nbformat": 4,
 "nbformat_minor": 2
}
