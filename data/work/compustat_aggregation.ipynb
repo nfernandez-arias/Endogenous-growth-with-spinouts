{
 "cells": [
  {
   "cell_type": "markdown",
   "metadata": {},
   "source": [
    "# Using Compustat and NBER/USPTO Patent Database to construct R\\&D spending measures\n",
    "\n",
    "In this document I outline how I use Compustat and the NBER patent database to construct a measure of state-level of R&D spending.\n",
    "\n",
    "## Constructing dataset\n",
    "\n",
    "### Merging patents and inventors datasets\n",
    "\n",
    "Code below:\n",
    "\n",
    "\n",
    "\n"
   ]
  },
  {
   "cell_type": "code",
   "execution_count": 3,
   "metadata": {},
   "outputs": [
    {
     "name": "stderr",
     "output_type": "stream",
     "text": [
      "Updating HTML index of packages in '.Library'\n",
      "Making 'packages.html' ... done\n"
     ]
    }
   ],
   "source": [
    "install.packages('readstata13',repos='http://cran.us.r-project.org')"
   ]
  },
  {
   "cell_type": "code",
   "execution_count": 4,
   "metadata": {},
   "outputs": [],
   "source": [
    "ptm <- proc.time()\n",
    "library(readstata13)\n",
    "source('stata_merge.R')\n",
    "\n",
    "\n",
    "\n"
   ]
  },
  {
   "cell_type": "code",
   "execution_count": 5,
   "metadata": {},
   "outputs": [
    {
     "name": "stderr",
     "output_type": "stream",
     "text": [
      "Warning message in eval(expr, envir, enclos):\n",
      "“NAs introduced by coercion”"
     ]
    }
   ],
   "source": [
    "# Read in datasets\n",
    "patents <- read.dta13('Raw/pat76_06_assg.dta')\n",
    "names(patents)[names(patents) == 'appyear'] <- 'year'\n",
    "\n",
    "inventors <- read.csv('Raw/inventor.csv')\n",
    "names(inventors)[names(inventors) == 'Patent'] <- 'patent'\n",
    "\n",
    "\n",
    "# Destring patent variable\n",
    "inventors$patent = as.numeric(as.character(inventors$patent))\n",
    "\n"
   ]
  },
  {
   "cell_type": "code",
   "execution_count": 6,
   "metadata": {},
   "outputs": [],
   "source": [
    "# Merge the datasets\n",
    "#inventors_patents <- stata.merge(patents,inventors,\"patent\")\n",
    "inventors_patents <- merge(patents,inventors,by = \"patent\")\n",
    "rm(list = c(\"inventors\",\"patents\"))"
   ]
  },
  {
   "cell_type": "code",
   "execution_count": 7,
   "metadata": {
    "scrolled": true
   },
   "outputs": [
    {
     "data": {
      "text/plain": [
       "   user  system elapsed \n",
       "128.718   2.029 152.422 "
      ]
     },
     "metadata": {},
     "output_type": "display_data"
    },
    {
     "data": {
      "text/html": [
       "<ol class=list-inline>\n",
       "\t<li>7224831</li>\n",
       "\t<li>41</li>\n",
       "</ol>\n"
      ],
      "text/latex": [
       "\\begin{enumerate*}\n",
       "\\item 7224831\n",
       "\\item 41\n",
       "\\end{enumerate*}\n"
      ],
      "text/markdown": [
       "1. 7224831\n",
       "2. 41\n",
       "\n",
       "\n"
      ],
      "text/plain": [
       "[1] 7224831      41"
      ]
     },
     "metadata": {},
     "output_type": "display_data"
    },
    {
     "data": {
      "text/html": [
       "<ol class=list-inline>\n",
       "\t<li>'patent'</li>\n",
       "\t<li>'allcites'</li>\n",
       "\t<li>'year'</li>\n",
       "\t<li>'asscode'</li>\n",
       "\t<li>'assgnum'</li>\n",
       "\t<li>'cat'</li>\n",
       "\t<li>'cat_ocl'</li>\n",
       "\t<li>'cclass'</li>\n",
       "\t<li>'country'</li>\n",
       "\t<li>'ddate'</li>\n",
       "\t<li>'gday'</li>\n",
       "\t<li>'gmonth'</li>\n",
       "\t<li>'gyear'</li>\n",
       "\t<li>'hjtwt'</li>\n",
       "\t<li>'icl'</li>\n",
       "\t<li>'icl_class'</li>\n",
       "\t<li>'icl_maingroup'</li>\n",
       "\t<li>'iclnum'</li>\n",
       "\t<li>'nclaims'</li>\n",
       "\t<li>'nclass'</li>\n",
       "\t<li>'nclass_ocl'</li>\n",
       "\t<li>'pdpass'</li>\n",
       "\t<li>'state'</li>\n",
       "\t<li>'status'</li>\n",
       "\t<li>'subcat'</li>\n",
       "\t<li>'subcat_ocl'</li>\n",
       "\t<li>'subclass'</li>\n",
       "\t<li>'subclass1'</li>\n",
       "\t<li>'subclass1_ocl'</li>\n",
       "\t<li>'subclass_ocl'</li>\n",
       "\t<li>'term_extension'</li>\n",
       "\t<li>'uspto_assignee'</li>\n",
       "\t<li>'Firstname'</li>\n",
       "\t<li>'Lastname'</li>\n",
       "\t<li>'Street'</li>\n",
       "\t<li>'City'</li>\n",
       "\t<li>'State'</li>\n",
       "\t<li>'Country'</li>\n",
       "\t<li>'Zipcode'</li>\n",
       "\t<li>'Nationality'</li>\n",
       "\t<li>'InvSeq'</li>\n",
       "</ol>\n"
      ],
      "text/latex": [
       "\\begin{enumerate*}\n",
       "\\item 'patent'\n",
       "\\item 'allcites'\n",
       "\\item 'year'\n",
       "\\item 'asscode'\n",
       "\\item 'assgnum'\n",
       "\\item 'cat'\n",
       "\\item 'cat\\_ocl'\n",
       "\\item 'cclass'\n",
       "\\item 'country'\n",
       "\\item 'ddate'\n",
       "\\item 'gday'\n",
       "\\item 'gmonth'\n",
       "\\item 'gyear'\n",
       "\\item 'hjtwt'\n",
       "\\item 'icl'\n",
       "\\item 'icl\\_class'\n",
       "\\item 'icl\\_maingroup'\n",
       "\\item 'iclnum'\n",
       "\\item 'nclaims'\n",
       "\\item 'nclass'\n",
       "\\item 'nclass\\_ocl'\n",
       "\\item 'pdpass'\n",
       "\\item 'state'\n",
       "\\item 'status'\n",
       "\\item 'subcat'\n",
       "\\item 'subcat\\_ocl'\n",
       "\\item 'subclass'\n",
       "\\item 'subclass1'\n",
       "\\item 'subclass1\\_ocl'\n",
       "\\item 'subclass\\_ocl'\n",
       "\\item 'term\\_extension'\n",
       "\\item 'uspto\\_assignee'\n",
       "\\item 'Firstname'\n",
       "\\item 'Lastname'\n",
       "\\item 'Street'\n",
       "\\item 'City'\n",
       "\\item 'State'\n",
       "\\item 'Country'\n",
       "\\item 'Zipcode'\n",
       "\\item 'Nationality'\n",
       "\\item 'InvSeq'\n",
       "\\end{enumerate*}\n"
      ],
      "text/markdown": [
       "1. 'patent'\n",
       "2. 'allcites'\n",
       "3. 'year'\n",
       "4. 'asscode'\n",
       "5. 'assgnum'\n",
       "6. 'cat'\n",
       "7. 'cat_ocl'\n",
       "8. 'cclass'\n",
       "9. 'country'\n",
       "10. 'ddate'\n",
       "11. 'gday'\n",
       "12. 'gmonth'\n",
       "13. 'gyear'\n",
       "14. 'hjtwt'\n",
       "15. 'icl'\n",
       "16. 'icl_class'\n",
       "17. 'icl_maingroup'\n",
       "18. 'iclnum'\n",
       "19. 'nclaims'\n",
       "20. 'nclass'\n",
       "21. 'nclass_ocl'\n",
       "22. 'pdpass'\n",
       "23. 'state'\n",
       "24. 'status'\n",
       "25. 'subcat'\n",
       "26. 'subcat_ocl'\n",
       "27. 'subclass'\n",
       "28. 'subclass1'\n",
       "29. 'subclass1_ocl'\n",
       "30. 'subclass_ocl'\n",
       "31. 'term_extension'\n",
       "32. 'uspto_assignee'\n",
       "33. 'Firstname'\n",
       "34. 'Lastname'\n",
       "35. 'Street'\n",
       "36. 'City'\n",
       "37. 'State'\n",
       "38. 'Country'\n",
       "39. 'Zipcode'\n",
       "40. 'Nationality'\n",
       "41. 'InvSeq'\n",
       "\n",
       "\n"
      ],
      "text/plain": [
       " [1] \"patent\"         \"allcites\"       \"year\"           \"asscode\"       \n",
       " [5] \"assgnum\"        \"cat\"            \"cat_ocl\"        \"cclass\"        \n",
       " [9] \"country\"        \"ddate\"          \"gday\"           \"gmonth\"        \n",
       "[13] \"gyear\"          \"hjtwt\"          \"icl\"            \"icl_class\"     \n",
       "[17] \"icl_maingroup\"  \"iclnum\"         \"nclaims\"        \"nclass\"        \n",
       "[21] \"nclass_ocl\"     \"pdpass\"         \"state\"          \"status\"        \n",
       "[25] \"subcat\"         \"subcat_ocl\"     \"subclass\"       \"subclass1\"     \n",
       "[29] \"subclass1_ocl\"  \"subclass_ocl\"   \"term_extension\" \"uspto_assignee\"\n",
       "[33] \"Firstname\"      \"Lastname\"       \"Street\"         \"City\"          \n",
       "[37] \"State\"          \"Country\"        \"Zipcode\"        \"Nationality\"   \n",
       "[41] \"InvSeq\"        "
      ]
     },
     "metadata": {},
     "output_type": "display_data"
    },
    {
     "data": {
      "text/html": [
       "<table>\n",
       "<thead><tr><th scope=col>patent</th><th scope=col>allcites</th><th scope=col>year</th><th scope=col>asscode</th><th scope=col>assgnum</th><th scope=col>cat</th><th scope=col>cat_ocl</th><th scope=col>cclass</th><th scope=col>country</th><th scope=col>ddate</th><th scope=col>⋯</th><th scope=col>uspto_assignee</th><th scope=col>Firstname</th><th scope=col>Lastname</th><th scope=col>Street</th><th scope=col>City</th><th scope=col>State</th><th scope=col>Country</th><th scope=col>Zipcode</th><th scope=col>Nationality</th><th scope=col>InvSeq</th></tr></thead>\n",
       "<tbody>\n",
       "\t<tr><td>3930271         </td><td> 6              </td><td>1974            </td><td>2               </td><td> 1              </td><td>6               </td><td> 6              </td><td>2/161.4         </td><td>US              </td><td>NA              </td><td>⋯               </td><td>251415          </td><td>HE CHUNG        </td><td>KAHNG           </td><td>                </td><td>GLENVIEW        </td><td>IL              </td><td>US              </td><td>60025           </td><td>                </td><td>1               </td></tr>\n",
       "\t<tr><td>3930272         </td><td> 0              </td><td>1974            </td><td>2               </td><td> 1              </td><td>6               </td><td> 6              </td><td>5/11            </td><td>US              </td><td>NA              </td><td>⋯               </td><td>246000          </td><td>ROBERT J        </td><td>BOUDREAU        </td><td>                </td><td>BEDFORD         </td><td>PA              </td><td>US              </td><td>15522           </td><td>                </td><td>1               </td></tr>\n",
       "\t<tr><td>3930273         </td><td>20              </td><td>1975            </td><td>2               </td><td> 1              </td><td>6               </td><td> 6              </td><td>5/430           </td><td>US              </td><td>NA              </td><td>⋯               </td><td> 10490          </td><td>ROBERT C        </td><td>STERN           </td><td>                </td><td>SAINTLOUIS      </td><td>MO              </td><td>US              </td><td>                </td><td>                </td><td>1               </td></tr>\n",
       "\t<tr><td>3930274         </td><td> 4              </td><td>1974            </td><td>1               </td><td>NA              </td><td>5               </td><td>NA              </td><td>114/354         </td><td>                </td><td>NA              </td><td>⋯               </td><td>     0          </td><td>HAROLD A        </td><td>SYFRITT         </td><td>                </td><td>MANHATTAN BEACH </td><td>CA              </td><td>US              </td><td>90266           </td><td>                </td><td>1               </td></tr>\n",
       "\t<tr><td>3930275         </td><td> 1              </td><td>1975            </td><td>1               </td><td>NA              </td><td>6               </td><td> 6              </td><td>12/142S         </td><td>                </td><td>NA              </td><td>⋯               </td><td>     0          </td><td>RICHARD         </td><td>BAILIN          </td><td>                </td><td>ENGLEWOOD CLIFFS</td><td>NJ              </td><td>US              </td><td>07632           </td><td>                </td><td>1               </td></tr>\n",
       "\t<tr><td>3930276         </td><td> 3              </td><td>1972            </td><td>2               </td><td> 1              </td><td>6               </td><td> 6              </td><td>15/53.4         </td><td>US              </td><td>NA              </td><td>⋯               </td><td>243840          </td><td>RUSSELL A       </td><td>VAN BRAKEL      </td><td>                </td><td>HARSHAW         </td><td>WI              </td><td>US              </td><td>54529           </td><td>                </td><td>1               </td></tr>\n",
       "</tbody>\n",
       "</table>\n"
      ],
      "text/latex": [
       "\\begin{tabular}{r|lllllllllllllllllllllllllllllllllllllllll}\n",
       " patent & allcites & year & asscode & assgnum & cat & cat\\_ocl & cclass & country & ddate & ⋯ & uspto\\_assignee & Firstname & Lastname & Street & City & State & Country & Zipcode & Nationality & InvSeq\\\\\n",
       "\\hline\n",
       "\t 3930271          &  6               & 1974             & 2                &  1               & 6                &  6               & 2/161.4          & US               & NA               & ⋯                & 251415           & HE CHUNG         & KAHNG            &                  & GLENVIEW         & IL               & US               & 60025            &                  & 1               \\\\\n",
       "\t 3930272          &  0               & 1974             & 2                &  1               & 6                &  6               & 5/11             & US               & NA               & ⋯                & 246000           & ROBERT J         & BOUDREAU         &                  & BEDFORD          & PA               & US               & 15522            &                  & 1               \\\\\n",
       "\t 3930273          & 20               & 1975             & 2                &  1               & 6                &  6               & 5/430            & US               & NA               & ⋯                &  10490           & ROBERT C         & STERN            &                  & SAINTLOUIS       & MO               & US               &                  &                  & 1               \\\\\n",
       "\t 3930274          &  4               & 1974             & 1                & NA               & 5                & NA               & 114/354          &                  & NA               & ⋯                &      0           & HAROLD A         & SYFRITT          &                  & MANHATTAN BEACH  & CA               & US               & 90266            &                  & 1               \\\\\n",
       "\t 3930275          &  1               & 1975             & 1                & NA               & 6                &  6               & 12/142S          &                  & NA               & ⋯                &      0           & RICHARD          & BAILIN           &                  & ENGLEWOOD CLIFFS & NJ               & US               & 07632            &                  & 1               \\\\\n",
       "\t 3930276          &  3               & 1972             & 2                &  1               & 6                &  6               & 15/53.4          & US               & NA               & ⋯                & 243840           & RUSSELL A        & VAN BRAKEL       &                  & HARSHAW          & WI               & US               & 54529            &                  & 1               \\\\\n",
       "\\end{tabular}\n"
      ],
      "text/markdown": [
       "\n",
       "patent | allcites | year | asscode | assgnum | cat | cat_ocl | cclass | country | ddate | ⋯ | uspto_assignee | Firstname | Lastname | Street | City | State | Country | Zipcode | Nationality | InvSeq | \n",
       "|---|---|---|---|---|---|\n",
       "| 3930271          |  6               | 1974             | 2                |  1               | 6                |  6               | 2/161.4          | US               | NA               | ⋯                | 251415           | HE CHUNG         | KAHNG            |                  | GLENVIEW         | IL               | US               | 60025            |                  | 1                | \n",
       "| 3930272          |  0               | 1974             | 2                |  1               | 6                |  6               | 5/11             | US               | NA               | ⋯                | 246000           | ROBERT J         | BOUDREAU         |                  | BEDFORD          | PA               | US               | 15522            |                  | 1                | \n",
       "| 3930273          | 20               | 1975             | 2                |  1               | 6                |  6               | 5/430            | US               | NA               | ⋯                |  10490           | ROBERT C         | STERN            |                  | SAINTLOUIS       | MO               | US               |                  |                  | 1                | \n",
       "| 3930274          |  4               | 1974             | 1                | NA               | 5                | NA               | 114/354          |                  | NA               | ⋯                |      0           | HAROLD A         | SYFRITT          |                  | MANHATTAN BEACH  | CA               | US               | 90266            |                  | 1                | \n",
       "| 3930275          |  1               | 1975             | 1                | NA               | 6                |  6               | 12/142S          |                  | NA               | ⋯                |      0           | RICHARD          | BAILIN           |                  | ENGLEWOOD CLIFFS | NJ               | US               | 07632            |                  | 1                | \n",
       "| 3930276          |  3               | 1972             | 2                |  1               | 6                |  6               | 15/53.4          | US               | NA               | ⋯                | 243840           | RUSSELL A        | VAN BRAKEL       |                  | HARSHAW          | WI               | US               | 54529            |                  | 1                | \n",
       "\n",
       "\n"
      ],
      "text/plain": [
       "  patent  allcites year asscode assgnum cat cat_ocl cclass  country ddate ⋯\n",
       "1 3930271  6       1974 2        1      6    6      2/161.4 US      <NA>  ⋯\n",
       "2 3930272  0       1974 2        1      6    6      5/11    US      <NA>  ⋯\n",
       "3 3930273 20       1975 2        1      6    6      5/430   US      <NA>  ⋯\n",
       "4 3930274  4       1974 1       NA      5   NA      114/354         <NA>  ⋯\n",
       "5 3930275  1       1975 1       NA      6    6      12/142S         <NA>  ⋯\n",
       "6 3930276  3       1972 2        1      6    6      15/53.4 US      <NA>  ⋯\n",
       "  uspto_assignee Firstname Lastname   Street City             State Country\n",
       "1 251415         HE CHUNG  KAHNG             GLENVIEW         IL    US     \n",
       "2 246000         ROBERT J  BOUDREAU          BEDFORD          PA    US     \n",
       "3  10490         ROBERT C  STERN             SAINTLOUIS       MO    US     \n",
       "4      0         HAROLD A  SYFRITT           MANHATTAN BEACH  CA    US     \n",
       "5      0         RICHARD   BAILIN            ENGLEWOOD CLIFFS NJ    US     \n",
       "6 243840         RUSSELL A VAN BRAKEL        HARSHAW          WI    US     \n",
       "  Zipcode Nationality InvSeq\n",
       "1 60025               1     \n",
       "2 15522               1     \n",
       "3                     1     \n",
       "4 90266               1     \n",
       "5 07632               1     \n",
       "6 54529               1     "
      ]
     },
     "metadata": {},
     "output_type": "display_data"
    }
   ],
   "source": [
    "proc.time() - ptm\n",
    "dim(inventors_patents)\n",
    "colnames(inventors_patents)\n",
    "head(inventors_patents)\n"
   ]
  },
  {
   "cell_type": "markdown",
   "metadata": {},
   "source": [
    "#### Merging with dynass"
   ]
  },
  {
   "cell_type": "code",
   "execution_count": 8,
   "metadata": {},
   "outputs": [
    {
     "data": {
      "text/html": [
       "<table>\n",
       "<thead><tr><th scope=col>pdpass</th><th scope=col>spell</th><th scope=col>source</th><th scope=col>pdpco</th><th scope=col>begyr</th><th scope=col>gvkey</th><th scope=col>endyr</th><th scope=col>nspell</th><th scope=col>year</th></tr></thead>\n",
       "<tbody>\n",
       "\t<tr><td>-19702</td><td>1     </td><td>m2006 </td><td>66448 </td><td>1997  </td><td>66448 </td><td>2005  </td><td>9     </td><td>1997  </td></tr>\n",
       "\t<tr><td>-19702</td><td>1     </td><td>m2006 </td><td>66448 </td><td>1997  </td><td>66448 </td><td>2005  </td><td>9     </td><td>1998  </td></tr>\n",
       "\t<tr><td>-19702</td><td>1     </td><td>m2006 </td><td>66448 </td><td>1997  </td><td>66448 </td><td>2005  </td><td>9     </td><td>1999  </td></tr>\n",
       "\t<tr><td>-19702</td><td>1     </td><td>m2006 </td><td>66448 </td><td>1997  </td><td>66448 </td><td>2005  </td><td>9     </td><td>2000  </td></tr>\n",
       "\t<tr><td>-19702</td><td>1     </td><td>m2006 </td><td>66448 </td><td>1997  </td><td>66448 </td><td>2005  </td><td>9     </td><td>2001  </td></tr>\n",
       "\t<tr><td>-19702</td><td>1     </td><td>m2006 </td><td>66448 </td><td>1997  </td><td>66448 </td><td>2005  </td><td>9     </td><td>2002  </td></tr>\n",
       "</tbody>\n",
       "</table>\n"
      ],
      "text/latex": [
       "\\begin{tabular}{r|lllllllll}\n",
       " pdpass & spell & source & pdpco & begyr & gvkey & endyr & nspell & year\\\\\n",
       "\\hline\n",
       "\t -19702 & 1      & m2006  & 66448  & 1997   & 66448  & 2005   & 9      & 1997  \\\\\n",
       "\t -19702 & 1      & m2006  & 66448  & 1997   & 66448  & 2005   & 9      & 1998  \\\\\n",
       "\t -19702 & 1      & m2006  & 66448  & 1997   & 66448  & 2005   & 9      & 1999  \\\\\n",
       "\t -19702 & 1      & m2006  & 66448  & 1997   & 66448  & 2005   & 9      & 2000  \\\\\n",
       "\t -19702 & 1      & m2006  & 66448  & 1997   & 66448  & 2005   & 9      & 2001  \\\\\n",
       "\t -19702 & 1      & m2006  & 66448  & 1997   & 66448  & 2005   & 9      & 2002  \\\\\n",
       "\\end{tabular}\n"
      ],
      "text/markdown": [
       "\n",
       "pdpass | spell | source | pdpco | begyr | gvkey | endyr | nspell | year | \n",
       "|---|---|---|---|---|---|\n",
       "| -19702 | 1      | m2006  | 66448  | 1997   | 66448  | 2005   | 9      | 1997   | \n",
       "| -19702 | 1      | m2006  | 66448  | 1997   | 66448  | 2005   | 9      | 1998   | \n",
       "| -19702 | 1      | m2006  | 66448  | 1997   | 66448  | 2005   | 9      | 1999   | \n",
       "| -19702 | 1      | m2006  | 66448  | 1997   | 66448  | 2005   | 9      | 2000   | \n",
       "| -19702 | 1      | m2006  | 66448  | 1997   | 66448  | 2005   | 9      | 2001   | \n",
       "| -19702 | 1      | m2006  | 66448  | 1997   | 66448  | 2005   | 9      | 2002   | \n",
       "\n",
       "\n"
      ],
      "text/plain": [
       "  pdpass spell source pdpco begyr gvkey endyr nspell year\n",
       "1 -19702 1     m2006  66448 1997  66448 2005  9      1997\n",
       "2 -19702 1     m2006  66448 1997  66448 2005  9      1998\n",
       "3 -19702 1     m2006  66448 1997  66448 2005  9      1999\n",
       "4 -19702 1     m2006  66448 1997  66448 2005  9      2000\n",
       "5 -19702 1     m2006  66448 1997  66448 2005  9      2001\n",
       "6 -19702 1     m2006  66448 1997  66448 2005  9      2002"
      ]
     },
     "metadata": {},
     "output_type": "display_data"
    }
   ],
   "source": [
    "dynass = read.dta13('Data/dynass_reshaped.dta')\n",
    "head(dynass)"
   ]
  },
  {
   "cell_type": "code",
   "execution_count": 9,
   "metadata": {},
   "outputs": [],
   "source": [
    "inventors_patents_dynass <- stata.merge(inventors_patents,dynass,c(\"pdpass\",\"year\"))"
   ]
  },
  {
   "cell_type": "code",
   "execution_count": 11,
   "metadata": {},
   "outputs": [
    {
     "data": {
      "text/html": [
       "<table>\n",
       "<thead><tr><th scope=col>pdpass</th><th scope=col>year</th><th scope=col>patent</th><th scope=col>allcites</th><th scope=col>asscode</th><th scope=col>assgnum</th><th scope=col>cat</th><th scope=col>cat_ocl</th><th scope=col>cclass</th><th scope=col>country</th><th scope=col>⋯</th><th scope=col>Nationality</th><th scope=col>InvSeq</th><th scope=col>spell</th><th scope=col>source</th><th scope=col>pdpco</th><th scope=col>begyr</th><th scope=col>gvkey</th><th scope=col>endyr</th><th scope=col>nspell</th><th scope=col>stata.merge.variable</th></tr></thead>\n",
       "<tbody>\n",
       "\t<tr><td>-19702</td><td>1997  </td><td>NA    </td><td>NA    </td><td>NA    </td><td>NA    </td><td>NA    </td><td>NA    </td><td>NA    </td><td>NA    </td><td>⋯     </td><td>NA    </td><td>NA    </td><td>1     </td><td>m2006 </td><td>66448 </td><td>1997  </td><td>66448 </td><td>2005  </td><td>9     </td><td>2     </td></tr>\n",
       "\t<tr><td>-19702</td><td>1998  </td><td>NA    </td><td>NA    </td><td>NA    </td><td>NA    </td><td>NA    </td><td>NA    </td><td>NA    </td><td>NA    </td><td>⋯     </td><td>NA    </td><td>NA    </td><td>1     </td><td>m2006 </td><td>66448 </td><td>1997  </td><td>66448 </td><td>2005  </td><td>9     </td><td>2     </td></tr>\n",
       "\t<tr><td>-19702</td><td>1999  </td><td>NA    </td><td>NA    </td><td>NA    </td><td>NA    </td><td>NA    </td><td>NA    </td><td>NA    </td><td>NA    </td><td>⋯     </td><td>NA    </td><td>NA    </td><td>1     </td><td>m2006 </td><td>66448 </td><td>1997  </td><td>66448 </td><td>2005  </td><td>9     </td><td>2     </td></tr>\n",
       "\t<tr><td>-19702</td><td>2000  </td><td>NA    </td><td>NA    </td><td>NA    </td><td>NA    </td><td>NA    </td><td>NA    </td><td>NA    </td><td>NA    </td><td>⋯     </td><td>NA    </td><td>NA    </td><td>1     </td><td>m2006 </td><td>66448 </td><td>1997  </td><td>66448 </td><td>2005  </td><td>9     </td><td>2     </td></tr>\n",
       "\t<tr><td>-19702</td><td>2001  </td><td>NA    </td><td>NA    </td><td>NA    </td><td>NA    </td><td>NA    </td><td>NA    </td><td>NA    </td><td>NA    </td><td>⋯     </td><td>NA    </td><td>NA    </td><td>1     </td><td>m2006 </td><td>66448 </td><td>1997  </td><td>66448 </td><td>2005  </td><td>9     </td><td>2     </td></tr>\n",
       "\t<tr><td>-19702</td><td>2002  </td><td>NA    </td><td>NA    </td><td>NA    </td><td>NA    </td><td>NA    </td><td>NA    </td><td>NA    </td><td>NA    </td><td>⋯     </td><td>NA    </td><td>NA    </td><td>1     </td><td>m2006 </td><td>66448 </td><td>1997  </td><td>66448 </td><td>2005  </td><td>9     </td><td>2     </td></tr>\n",
       "</tbody>\n",
       "</table>\n"
      ],
      "text/latex": [
       "\\begin{tabular}{r|lllllllllllllllllllllllllllllllllllllllllllllllll}\n",
       " pdpass & year & patent & allcites & asscode & assgnum & cat & cat\\_ocl & cclass & country & ⋯ & Nationality & InvSeq & spell & source & pdpco & begyr & gvkey & endyr & nspell & stata.merge.variable\\\\\n",
       "\\hline\n",
       "\t -19702 & 1997   & NA     & NA     & NA     & NA     & NA     & NA     & NA     & NA     & ⋯      & NA     & NA     & 1      & m2006  & 66448  & 1997   & 66448  & 2005   & 9      & 2     \\\\\n",
       "\t -19702 & 1998   & NA     & NA     & NA     & NA     & NA     & NA     & NA     & NA     & ⋯      & NA     & NA     & 1      & m2006  & 66448  & 1997   & 66448  & 2005   & 9      & 2     \\\\\n",
       "\t -19702 & 1999   & NA     & NA     & NA     & NA     & NA     & NA     & NA     & NA     & ⋯      & NA     & NA     & 1      & m2006  & 66448  & 1997   & 66448  & 2005   & 9      & 2     \\\\\n",
       "\t -19702 & 2000   & NA     & NA     & NA     & NA     & NA     & NA     & NA     & NA     & ⋯      & NA     & NA     & 1      & m2006  & 66448  & 1997   & 66448  & 2005   & 9      & 2     \\\\\n",
       "\t -19702 & 2001   & NA     & NA     & NA     & NA     & NA     & NA     & NA     & NA     & ⋯      & NA     & NA     & 1      & m2006  & 66448  & 1997   & 66448  & 2005   & 9      & 2     \\\\\n",
       "\t -19702 & 2002   & NA     & NA     & NA     & NA     & NA     & NA     & NA     & NA     & ⋯      & NA     & NA     & 1      & m2006  & 66448  & 1997   & 66448  & 2005   & 9      & 2     \\\\\n",
       "\\end{tabular}\n"
      ],
      "text/markdown": [
       "\n",
       "pdpass | year | patent | allcites | asscode | assgnum | cat | cat_ocl | cclass | country | ⋯ | Nationality | InvSeq | spell | source | pdpco | begyr | gvkey | endyr | nspell | stata.merge.variable | \n",
       "|---|---|---|---|---|---|\n",
       "| -19702 | 1997   | NA     | NA     | NA     | NA     | NA     | NA     | NA     | NA     | ⋯      | NA     | NA     | 1      | m2006  | 66448  | 1997   | 66448  | 2005   | 9      | 2      | \n",
       "| -19702 | 1998   | NA     | NA     | NA     | NA     | NA     | NA     | NA     | NA     | ⋯      | NA     | NA     | 1      | m2006  | 66448  | 1997   | 66448  | 2005   | 9      | 2      | \n",
       "| -19702 | 1999   | NA     | NA     | NA     | NA     | NA     | NA     | NA     | NA     | ⋯      | NA     | NA     | 1      | m2006  | 66448  | 1997   | 66448  | 2005   | 9      | 2      | \n",
       "| -19702 | 2000   | NA     | NA     | NA     | NA     | NA     | NA     | NA     | NA     | ⋯      | NA     | NA     | 1      | m2006  | 66448  | 1997   | 66448  | 2005   | 9      | 2      | \n",
       "| -19702 | 2001   | NA     | NA     | NA     | NA     | NA     | NA     | NA     | NA     | ⋯      | NA     | NA     | 1      | m2006  | 66448  | 1997   | 66448  | 2005   | 9      | 2      | \n",
       "| -19702 | 2002   | NA     | NA     | NA     | NA     | NA     | NA     | NA     | NA     | ⋯      | NA     | NA     | 1      | m2006  | 66448  | 1997   | 66448  | 2005   | 9      | 2      | \n",
       "\n",
       "\n"
      ],
      "text/plain": [
       "  pdpass year patent allcites asscode assgnum cat cat_ocl cclass country ⋯\n",
       "1 -19702 1997 NA     NA       NA      NA      NA  NA      NA     NA      ⋯\n",
       "2 -19702 1998 NA     NA       NA      NA      NA  NA      NA     NA      ⋯\n",
       "3 -19702 1999 NA     NA       NA      NA      NA  NA      NA     NA      ⋯\n",
       "4 -19702 2000 NA     NA       NA      NA      NA  NA      NA     NA      ⋯\n",
       "5 -19702 2001 NA     NA       NA      NA      NA  NA      NA     NA      ⋯\n",
       "6 -19702 2002 NA     NA       NA      NA      NA  NA      NA     NA      ⋯\n",
       "  Nationality InvSeq spell source pdpco begyr gvkey endyr nspell\n",
       "1 NA          NA     1     m2006  66448 1997  66448 2005  9     \n",
       "2 NA          NA     1     m2006  66448 1997  66448 2005  9     \n",
       "3 NA          NA     1     m2006  66448 1997  66448 2005  9     \n",
       "4 NA          NA     1     m2006  66448 1997  66448 2005  9     \n",
       "5 NA          NA     1     m2006  66448 1997  66448 2005  9     \n",
       "6 NA          NA     1     m2006  66448 1997  66448 2005  9     \n",
       "  stata.merge.variable\n",
       "1 2                   \n",
       "2 2                   \n",
       "3 2                   \n",
       "4 2                   \n",
       "5 2                   \n",
       "6 2                   "
      ]
     },
     "metadata": {},
     "output_type": "display_data"
    }
   ],
   "source": [
    "head(inventors_patents_dynass)\n",
    "rm(\"inventors_patents\")"
   ]
  },
  {
   "cell_type": "code",
   "execution_count": 12,
   "metadata": {},
   "outputs": [
    {
     "data": {
      "text/html": [
       "<ol class=list-inline>\n",
       "\t<li>4409704</li>\n",
       "\t<li>249594</li>\n",
       "\t<li>2815127</li>\n",
       "</ol>\n"
      ],
      "text/latex": [
       "\\begin{enumerate*}\n",
       "\\item 4409704\n",
       "\\item 249594\n",
       "\\item 2815127\n",
       "\\end{enumerate*}\n"
      ],
      "text/markdown": [
       "1. 4409704\n",
       "2. 249594\n",
       "3. 2815127\n",
       "\n",
       "\n"
      ],
      "text/plain": [
       "[1] 4409704  249594 2815127"
      ]
     },
     "metadata": {},
     "output_type": "display_data"
    }
   ],
   "source": [
    "tabulate(inventors_patents_dynass$stata.merge.variable)"
   ]
  }
 ],
 "metadata": {
  "kernelspec": {
   "display_name": "R",
   "language": "R",
   "name": "ir"
  },
  "language_info": {
   "codemirror_mode": "r",
   "file_extension": ".r",
   "mimetype": "text/x-r-source",
   "name": "R",
   "pygments_lexer": "r",
   "version": "3.5.1"
  }
 },
 "nbformat": 4,
 "nbformat_minor": 2
}
